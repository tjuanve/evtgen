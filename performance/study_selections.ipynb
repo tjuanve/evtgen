{
 "cells": [
  {
   "cell_type": "code",
   "execution_count": 1,
   "metadata": {},
   "outputs": [],
   "source": [
    "%load_ext autoreload\n",
    "%autoreload 2"
   ]
  },
  {
   "cell_type": "code",
   "execution_count": 2,
   "metadata": {},
   "outputs": [],
   "source": [
    "import simweights\n",
    "import pickle\n",
    "import os, sys\n",
    "import numpy as np\n",
    "import matplotlib as mat\n",
    "import matplotlib.pyplot as plt\n",
    "%matplotlib inline\n",
    "import matplotlib.colors as colors\n",
    "import matplotlib.gridspec as gridspec\n",
    "import pandas as pd\n",
    "import tables\n",
    "import h5py\n",
    "import math\n",
    "from scipy.stats import mstats\n",
    "import matplotlib as mpl\n",
    "import matplotlib.font_manager as font_manager\n",
    "from fonts import *\n",
    "\n"
   ]
  },
  {
   "cell_type": "code",
   "execution_count": 3,
   "metadata": {},
   "outputs": [],
   "source": [
    "sys.path.append(\"/data/user/tvaneede/GlobalFit/EventGenerator/performance\")\n",
    "from weights import *\n",
    "from utils import *\n",
    "from files import files\n",
    "from selections import create_selections"
   ]
  },
  {
   "cell_type": "code",
   "execution_count": 4,
   "metadata": {},
   "outputs": [],
   "source": [
    "# version and plotting path\n",
    "version = \"v0\"\n",
    "files = files[version]\n"
   ]
  },
  {
   "cell_type": "code",
   "execution_count": 5,
   "metadata": {},
   "outputs": [],
   "source": [
    "# open the files\n",
    "for flavor in files:\n",
    "    files[flavor]['hdf_file'] = pd.HDFStore(files[flavor]['file_path'],'r')\n",
    "    files[flavor]['variables'] = get_variables( files[flavor]['hdf_file'] )\n",
    "    files[flavor] = Append_Weights( files[flavor] )\n"
   ]
  },
  {
   "cell_type": "code",
   "execution_count": 6,
   "metadata": {},
   "outputs": [],
   "source": [
    "keys_to_merge = {\n",
    "    \"NuE\" : [\"NuE_E2\", \"NuE_E3\"],\n",
    "    \"NuMu\" : [\"NuMu_E2\", \"NuMu_E3\"],\n",
    "    \"NuTau\" : [\"NuTau_E2\", \"NuTau_E3\"],\n",
    "    \"NuAll\" : ['NuE', \"NuMu\", \"NuTau\"],\n",
    "}\n",
    "\n",
    "for new_key in keys_to_merge:\n",
    "    files[new_key] = {}\n",
    "    files[new_key]['variables'] = {}\n",
    "\n",
    "    for key in keys_to_merge[new_key]:\n",
    "        for variable in files[key]['variables']:\n",
    "            if variable not in files[new_key]['variables']:\n",
    "                files[new_key]['variables'][variable] = []\n",
    "            files[new_key]['variables'][variable].append( pd.Series(files[key]['variables'][variable]) )\n",
    "    \n",
    "    for variable in files[new_key]['variables']:\n",
    "        files[new_key]['variables'][variable] = pd.concat(files[new_key]['variables'][variable])\n"
   ]
  },
  {
   "cell_type": "code",
   "execution_count": 7,
   "metadata": {},
   "outputs": [],
   "source": [
    "from selections import create_selections"
   ]
  },
  {
   "cell_type": "code",
   "execution_count": 8,
   "metadata": {},
   "outputs": [],
   "source": [
    "selections = create_selections( files[\"NuAll\"] )"
   ]
  },
  {
   "cell_type": "code",
   "execution_count": 14,
   "metadata": {},
   "outputs": [
    {
     "name": "stdout",
     "output_type": "stream",
     "text": [
      "-------------------- NuMu_E2\n",
      "PrimaryNeutrinoEnergy min 4.268040943088046 max 5.999973812693128\n",
      "RecoETot min 3.8086085072777722 max 6.647068883397538\n",
      "-------------------- NuMu_E3\n",
      "PrimaryNeutrinoEnergy min 6.000211037695408 max 7.9999995501711965\n",
      "RecoETot min 3.566534095449937 max 8.999187485840867\n",
      "-------------------- NuE_E2\n",
      "PrimaryNeutrinoEnergy min 4.224270113376386 max 5.999822921626159\n",
      "RecoETot min 3.193123539436236 max 6.663020154407304\n",
      "-------------------- NuE_E3\n",
      "PrimaryNeutrinoEnergy min 6.000617947429419 max 7.998799430206418\n",
      "RecoETot min 3.0566047856565914 max 8.194089357422973\n",
      "-------------------- NuTau_E2\n",
      "PrimaryNeutrinoEnergy min 4.29318812463011 max 5.999883151520779\n",
      "RecoETot min 3.002160254131146 max 6.999179427964016\n",
      "-------------------- NuTau_E3\n",
      "PrimaryNeutrinoEnergy min 6.000399423763156 max 7.999359159730375\n",
      "RecoETot min 3.7922517247456686 max 8.133814957047576\n",
      "-------------------- NuE\n",
      "PrimaryNeutrinoEnergy min 4.224270113376386 max 7.998799430206418\n",
      "RecoETot min 3.0566047856565914 max 8.194089357422973\n",
      "-------------------- NuMu\n",
      "PrimaryNeutrinoEnergy min 4.268040943088046 max 7.9999995501711965\n",
      "RecoETot min 3.566534095449937 max 8.999187485840867\n",
      "-------------------- NuTau\n",
      "PrimaryNeutrinoEnergy min 4.29318812463011 max 7.999359159730375\n",
      "RecoETot min 3.002160254131146 max 8.133814957047576\n",
      "-------------------- NuAll\n",
      "PrimaryNeutrinoEnergy min 4.224270113376386 max 7.9999995501711965\n",
      "RecoETot min 3.002160254131146 max 8.999187485840867\n"
     ]
    }
   ],
   "source": [
    "# check energy range files, number of events, files\n",
    "for simulation in files:\n",
    "    energy = files[simulation]['variables']['PrimaryNeutrinoEnergy']\n",
    "    recoenergy = files[simulation]['variables']['RecoETot']\n",
    "    print(20*\"-\", simulation)\n",
    "    print(\"PrimaryNeutrinoEnergy\", \"min\", np.log10(min(energy)), \"max\", np.log10(max(energy)) )\n",
    "    print(\"RecoETot\", \"min\", np.log10(min(recoenergy)), \"max\", np.log10(max(recoenergy)) )\n",
    "    # print(\"nfiles\", files[simulation]['nfiles'])\n",
    "    # print(\"evts\", len(energy), \"evts/file\", len(energy)/files[simulation]['nfiles'])"
   ]
  },
  {
   "cell_type": "code",
   "execution_count": 22,
   "metadata": {},
   "outputs": [
    {
     "name": "stdout",
     "output_type": "stream",
     "text": [
      "-------------------- TrueDoubleCascade\n",
      "9207 4494 4713\n",
      "True\n",
      "-------------------- DoubleCascade_TrueDoubleCascade\n",
      "2181 1078 1103\n",
      "True\n",
      "-------------------- DoubleCascadeEvtGen_TrueDoubleCascade\n",
      "2145 1057 1088\n",
      "True\n"
     ]
    }
   ],
   "source": [
    "# check true double cascades\n",
    "\n",
    "for selection_name in [\"TrueDoubleCascade\", \"DoubleCascade_TrueDoubleCascade\", \"DoubleCascadeEvtGen_TrueDoubleCascade\"]:\n",
    "\n",
    "    selection = selections[selection_name]\n",
    "\n",
    "    true_type = files[\"NuAll\"]['variables'][\"PrimaryNeutrinoType\"][selection]\n",
    "    print(20*\"-\", selection_name)\n",
    "    print( len(true_type), sum( true_type == -16.0 ), sum( true_type == 16.0 ) )\n",
    "    print( sum( true_type == -16.0 ) + sum( true_type == 16.0 ) == len(true_type) )\n"
   ]
  }
 ],
 "metadata": {
  "kernelspec": {
   "display_name": "py3-v4.2.1_nnmfit-v0.3.0",
   "language": "python",
   "name": "python3"
  },
  "language_info": {
   "codemirror_mode": {
    "name": "ipython",
    "version": 3
   },
   "file_extension": ".py",
   "mimetype": "text/x-python",
   "name": "python",
   "nbconvert_exporter": "python",
   "pygments_lexer": "ipython3",
   "version": "3.10.2"
  }
 },
 "nbformat": 4,
 "nbformat_minor": 2
}
