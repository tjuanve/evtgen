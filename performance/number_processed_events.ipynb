{
 "cells": [
  {
   "cell_type": "code",
   "execution_count": null,
   "metadata": {},
   "outputs": [],
   "source": [
    "%load_ext autoreload\n",
    "%autoreload 2"
   ]
  },
  {
   "cell_type": "code",
   "execution_count": 2,
   "metadata": {},
   "outputs": [],
   "source": [
    "import simweights\n",
    "import pickle\n",
    "import os, sys\n",
    "import numpy as np\n",
    "import matplotlib as mat\n",
    "import matplotlib.pyplot as plt\n",
    "%matplotlib inline\n",
    "import matplotlib.colors as colors\n",
    "import matplotlib.gridspec as gridspec\n",
    "import pandas as pd\n",
    "import tables\n",
    "import h5py\n",
    "import math\n",
    "from scipy.stats import mstats\n",
    "import matplotlib as mpl\n",
    "import matplotlib.font_manager as font_manager\n",
    "from fonts import *\n",
    "\n"
   ]
  },
  {
   "cell_type": "code",
   "execution_count": 3,
   "metadata": {},
   "outputs": [],
   "source": [
    "sys.path.append(\"/data/user/tvaneede/GlobalFit/EventGenerator/performance\")\n",
    "from weights import *\n",
    "from utils import *\n",
    "from files import files\n",
    "from selections import create_selections"
   ]
  },
  {
   "cell_type": "code",
   "execution_count": 4,
   "metadata": {},
   "outputs": [],
   "source": [
    "# version and plotting path\n",
    "version = \"v0\"\n",
    "files = files[version]\n"
   ]
  },
  {
   "cell_type": "code",
   "execution_count": 5,
   "metadata": {},
   "outputs": [],
   "source": [
    "# open the files\n",
    "for flavor in files:\n",
    "    files[flavor]['hdf_file'] = pd.HDFStore(files[flavor]['file_path'],'r')\n",
    "    files[flavor]['variables'] = get_variables( files[flavor]['hdf_file'] )\n",
    "    files[flavor] = Append_Weights( files[flavor] )\n"
   ]
  },
  {
   "cell_type": "code",
   "execution_count": 25,
   "metadata": {},
   "outputs": [
    {
     "name": "stdout",
     "output_type": "stream",
     "text": [
      "\\begin{table}[h]\n",
      "\\centering\n",
      "\\begin{tabular}{l|c|c|c|c|c}\n",
      "\\hline\n",
      "Simulation & $\\log_{10}(E_\\nu^{\\rm min})$ & $\\log_{10}(E_\\nu^{\\rm max})$ & nfiles & evts & evts/file \\\\\n",
      "\\hline\n",
      "NuMu & 4.3  & 6.0 & 675 & 7128 & 10.6 \\\\\n",
      "NuMu & 6.0  & 8.0 & 1000 & 3109 & 3.1 \\\\\n",
      "NuE & 4.2  & 6.0 & 1000 & 20938 & 20.9 \\\\\n",
      "NuE & 6.0  & 8.0 & 995 & 2900 & 2.9 \\\\\n",
      "NuTau & 4.3  & 6.0 & 1000 & 11184 & 11.2 \\\\\n",
      "NuTau & 6.0  & 8.0 & 999 & 4195 & 4.2 \\\\\n",
      "\\hline\n",
      "All &  & & 5669 & 49454 & 8.7 \\\\\n",
      "\\hline\n",
      "\\end{tabular}\n",
      "\\caption{Summary of event statistics for different simulations.}\n",
      "\\label{tab:events_summary}\n",
      "\\end{table}\n"
     ]
    }
   ],
   "source": [
    "# Collect table data\n",
    "table_rows = []\n",
    "total_files = 0\n",
    "total_events = 0\n",
    "for simulation in files:\n",
    "    energy = files[simulation]['variables']['PrimaryNeutrinoEnergy']\n",
    "    nfiles = files[simulation]['nfiles']\n",
    "    nevents = len(energy)\n",
    "    events_per_file = nevents / nfiles\n",
    "    simulation = simulation.replace(\"_E2\",\"\").replace(\"_E3\",\"\")\n",
    "    total_files += nfiles\n",
    "    total_events += nevents\n",
    "    table_rows.append(f\"{simulation} & {np.log10(min(energy)):.1f}  & {np.log10(max(energy)):.1f} & {nfiles} & {nevents} & {events_per_file:.1f} \\\\\\\\\")\n",
    "\n",
    "table_rows.append(f\"\\hline\")\n",
    "table_rows.append(f\"All &  & & {total_files} & {total_events} & {total_events/total_files:.1f} \\\\\\\\\")\n",
    "\n",
    "\n",
    "# Create LaTeX table\n",
    "latex_table = r\"\"\"\\begin{table}[h]\n",
    "\\centering\n",
    "\\begin{tabular}{l|c|c|c|c|c}\n",
    "\\hline\n",
    "Simulation & $\\log_{10}(E_\\nu^{\\rm min})$ & $\\log_{10}(E_\\nu^{\\rm max})$ & nfiles & evts & evts/file \\\\\n",
    "\\hline\n",
    "\"\"\" + \"\\n\".join(table_rows) + r\"\"\"\n",
    "\\hline\n",
    "\\end{tabular}\n",
    "\\caption{Summary of event statistics for different simulations.}\n",
    "\\label{tab:events_summary}\n",
    "\\end{table}\"\"\"\n",
    "\n",
    "# Print LaTeX table\n",
    "print(latex_table)\n"
   ]
  },
  {
   "cell_type": "code",
   "execution_count": 6,
   "metadata": {},
   "outputs": [],
   "source": [
    "keys_to_merge = {\n",
    "    \"NuE\" : [\"NuE_E2\", \"NuE_E3\"],\n",
    "    \"NuMu\" : [\"NuMu_E2\", \"NuMu_E3\"],\n",
    "    \"NuTau\" : [\"NuTau_E2\", \"NuTau_E3\"],\n",
    "    \"NuAll\" : ['NuE', \"NuMu\", \"NuTau\"],\n",
    "}\n",
    "\n",
    "for new_key in keys_to_merge:\n",
    "    files[new_key] = {}\n",
    "    files[new_key]['variables'] = {}\n",
    "\n",
    "    for key in keys_to_merge[new_key]:\n",
    "        for variable in files[key]['variables']:\n",
    "            if variable not in files[new_key]['variables']:\n",
    "                files[new_key]['variables'][variable] = []\n",
    "            files[new_key]['variables'][variable].append( pd.Series(files[key]['variables'][variable]) )\n",
    "    \n",
    "    for variable in files[new_key]['variables']:\n",
    "        files[new_key]['variables'][variable] = pd.concat(files[new_key]['variables'][variable])\n"
   ]
  },
  {
   "cell_type": "code",
   "execution_count": 6,
   "metadata": {},
   "outputs": [],
   "source": [
    "from selections import create_selections"
   ]
  },
  {
   "cell_type": "code",
   "execution_count": 7,
   "metadata": {},
   "outputs": [
    {
     "ename": "KeyError",
     "evalue": "'NuAll'",
     "output_type": "error",
     "traceback": [
      "\u001b[0;31m---------------------------------------------------------------------------\u001b[0m",
      "\u001b[0;31mKeyError\u001b[0m                                  Traceback (most recent call last)",
      "Cell \u001b[0;32mIn[7], line 1\u001b[0m\n\u001b[0;32m----> 1\u001b[0m selections \u001b[38;5;241m=\u001b[39m create_selections( \u001b[43mfiles\u001b[49m\u001b[43m[\u001b[49m\u001b[38;5;124;43m\"\u001b[39;49m\u001b[38;5;124;43mNuAll\u001b[39;49m\u001b[38;5;124;43m\"\u001b[39;49m\u001b[43m]\u001b[49m )\n",
      "\u001b[0;31mKeyError\u001b[0m: 'NuAll'"
     ]
    }
   ],
   "source": [
    "selections = create_selections( files[\"NuAll\"] )"
   ]
  },
  {
   "cell_type": "code",
   "execution_count": null,
   "metadata": {},
   "outputs": [
    {
     "name": "stdout",
     "output_type": "stream",
     "text": [
      "-------------------- NuMu_E2\n",
      "nfiles 675\n",
      "evts 7128 evts/file 10.56\n",
      "-------------------- NuMu_E3\n",
      "nfiles 1000\n",
      "evts 3109 evts/file 3.109\n",
      "-------------------- NuE_E2\n",
      "nfiles 1000\n",
      "evts 20938 evts/file 20.938\n",
      "-------------------- NuE_E3\n",
      "nfiles 995\n",
      "evts 2900 evts/file 2.9145728643216082\n",
      "-------------------- NuTau_E2\n",
      "nfiles 1000\n",
      "evts 11184 evts/file 11.184\n",
      "-------------------- NuTau_E3\n",
      "nfiles 999\n",
      "evts 4195 evts/file 4.1991991991991995\n",
      "-------------------- NuE\n"
     ]
    },
    {
     "ename": "KeyError",
     "evalue": "'nfiles'",
     "output_type": "error",
     "traceback": [
      "\u001b[0;31m---------------------------------------------------------------------------\u001b[0m",
      "\u001b[0;31mKeyError\u001b[0m                                  Traceback (most recent call last)",
      "Cell \u001b[0;32mIn[23], line 8\u001b[0m\n\u001b[1;32m      5\u001b[0m \u001b[38;5;28mprint\u001b[39m(\u001b[38;5;241m20\u001b[39m\u001b[38;5;241m*\u001b[39m\u001b[38;5;124m\"\u001b[39m\u001b[38;5;124m-\u001b[39m\u001b[38;5;124m\"\u001b[39m, simulation)\n\u001b[1;32m      6\u001b[0m \u001b[38;5;66;03m# print(\"PrimaryNeutrinoEnergy\", \"min\", np.log10(min(energy)), \"max\", np.log10(max(energy)) )\u001b[39;00m\n\u001b[1;32m      7\u001b[0m \u001b[38;5;66;03m# print(\"RecoETot\", \"min\", np.log10(min(recoenergy)), \"max\", np.log10(max(recoenergy)) )\u001b[39;00m\n\u001b[0;32m----> 8\u001b[0m \u001b[38;5;28mprint\u001b[39m(\u001b[38;5;124m\"\u001b[39m\u001b[38;5;124mnfiles\u001b[39m\u001b[38;5;124m\"\u001b[39m, \u001b[43mfiles\u001b[49m\u001b[43m[\u001b[49m\u001b[43msimulation\u001b[49m\u001b[43m]\u001b[49m\u001b[43m[\u001b[49m\u001b[38;5;124;43m'\u001b[39;49m\u001b[38;5;124;43mnfiles\u001b[39;49m\u001b[38;5;124;43m'\u001b[39;49m\u001b[43m]\u001b[49m)\n\u001b[1;32m      9\u001b[0m \u001b[38;5;28mprint\u001b[39m(\u001b[38;5;124m\"\u001b[39m\u001b[38;5;124mevts\u001b[39m\u001b[38;5;124m\"\u001b[39m, \u001b[38;5;28mlen\u001b[39m(energy), \u001b[38;5;124m\"\u001b[39m\u001b[38;5;124mevts/file\u001b[39m\u001b[38;5;124m\"\u001b[39m, \u001b[38;5;28mlen\u001b[39m(energy)\u001b[38;5;241m/\u001b[39mfiles[simulation][\u001b[38;5;124m'\u001b[39m\u001b[38;5;124mnfiles\u001b[39m\u001b[38;5;124m'\u001b[39m])\n",
      "\u001b[0;31mKeyError\u001b[0m: 'nfiles'"
     ]
    }
   ],
   "source": [
    "\n",
    "\n",
    "\n",
    "# check energy range files, number of events, files\n",
    "for simulation in files:\n",
    "    energy = files[simulation]['variables']['PrimaryNeutrinoEnergy']\n",
    "    recoenergy = files[simulation]['variables']['RecoETot']\n",
    "    print(20*\"-\", simulation)\n",
    "    # print(\"PrimaryNeutrinoEnergy\", \"min\", np.log10(min(energy)), \"max\", np.log10(max(energy)) )\n",
    "    # print(\"RecoETot\", \"min\", np.log10(min(recoenergy)), \"max\", np.log10(max(recoenergy)) )\n",
    "    print(\"nfiles\", files[simulation]['nfiles'])\n",
    "    print(\"evts\", len(energy), \"evts/file\", len(energy)/files[simulation]['nfiles'])"
   ]
  },
  {
   "cell_type": "code",
   "execution_count": 22,
   "metadata": {},
   "outputs": [
    {
     "name": "stdout",
     "output_type": "stream",
     "text": [
      "-------------------- TrueDoubleCascade\n",
      "9207 4494 4713\n",
      "True\n",
      "-------------------- DoubleCascade_TrueDoubleCascade\n",
      "2181 1078 1103\n",
      "True\n",
      "-------------------- DoubleCascadeEvtGen_TrueDoubleCascade\n",
      "2145 1057 1088\n",
      "True\n"
     ]
    }
   ],
   "source": [
    "# check true double cascades\n",
    "\n",
    "for selection_name in [\"TrueDoubleCascade\", \"DoubleCascade_TrueDoubleCascade\", \"DoubleCascadeEvtGen_TrueDoubleCascade\"]:\n",
    "\n",
    "    selection = selections[selection_name]\n",
    "\n",
    "    true_type = files[\"NuAll\"]['variables'][\"PrimaryNeutrinoType\"][selection]\n",
    "    print(20*\"-\", selection_name)\n",
    "    print( len(true_type), sum( true_type == -16.0 ), sum( true_type == 16.0 ) )\n",
    "    print( sum( true_type == -16.0 ) + sum( true_type == 16.0 ) == len(true_type) )\n"
   ]
  }
 ],
 "metadata": {
  "kernelspec": {
   "display_name": "py3-v4.2.1_nnmfit-v0.3.0",
   "language": "python",
   "name": "python3"
  },
  "language_info": {
   "codemirror_mode": {
    "name": "ipython",
    "version": 3
   },
   "file_extension": ".py",
   "mimetype": "text/x-python",
   "name": "python",
   "nbconvert_exporter": "python",
   "pygments_lexer": "ipython3",
   "version": "3.10.2"
  }
 },
 "nbformat": 4,
 "nbformat_minor": 2
}
